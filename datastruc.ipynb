{
  "nbformat": 4,
  "nbformat_minor": 0,
  "metadata": {
    "colab": {
      "name": "datastruc.ipynb",
      "provenance": [],
      "authorship_tag": "ABX9TyMNLvEgs+2pes9y5OQbgDTO",
      "include_colab_link": true
    },
    "kernelspec": {
      "name": "python3",
      "display_name": "Python 3"
    }
  },
  "cells": [
    {
      "cell_type": "markdown",
      "metadata": {
        "id": "view-in-github",
        "colab_type": "text"
      },
      "source": [
        "<a href=\"https://colab.research.google.com/github/pavan2131/pythondata-struct/blob/master/datastruc.ipynb\" target=\"_parent\"><img src=\"https://colab.research.google.com/assets/colab-badge.svg\" alt=\"Open In Colab\"/></a>"
      ]
    },
    {
      "cell_type": "markdown",
      "metadata": {
        "id": "Rk_23D8BgK8-",
        "colab_type": "text"
      },
      "source": [
        "Finding area of a circle"
      ]
    },
    {
      "cell_type": "markdown",
      "metadata": {
        "id": "wHHKOsd4gTwy",
        "colab_type": "text"
      },
      "source": [
        ""
      ]
    },
    {
      "cell_type": "code",
      "metadata": {
        "id": "52IuTztscWXE",
        "colab_type": "code",
        "colab": {
          "base_uri": "https://localhost:8080/",
          "height": 51
        },
        "outputId": "87bc18ab-3216-4557-a81a-311ce0918039"
      },
      "source": [
        "import math \n",
        "x = float(input()) \n",
        "y = (math.pi)*pow(x,2) \n",
        "y"
      ],
      "execution_count": 7,
      "outputs": [
        {
          "output_type": "stream",
          "text": [
            "1.1\n"
          ],
          "name": "stdout"
        },
        {
          "output_type": "execute_result",
          "data": {
            "text/plain": [
              "3.8013271108436504"
            ]
          },
          "metadata": {
            "tags": []
          },
          "execution_count": 7
        }
      ]
    },
    {
      "cell_type": "markdown",
      "metadata": {
        "id": "AcMmzZfUgTtE",
        "colab_type": "text"
      },
      "source": [
        "Printing extensiom of file name"
      ]
    },
    {
      "cell_type": "code",
      "metadata": {
        "id": "KgIYlZhEgj37",
        "colab_type": "code",
        "colab": {
          "base_uri": "https://localhost:8080/",
          "height": 51
        },
        "outputId": "bb2d58b1-c315-4b7c-ddec-31f9eb5fb01f"
      },
      "source": [
        "d = {\"c\":\"c\",\"cpp\":\"c++\",\"java\":\"java\",\"py\":\"python\"}\n",
        "filename = input(\"Input the Filename: \")\n",
        "f_extns = filename.split(\".\")\n",
        "print (\"The extension of the file is : \" + d[f_extns[-1]])"
      ],
      "execution_count": 11,
      "outputs": [
        {
          "output_type": "stream",
          "text": [
            "Input the Filename: ssdjd.py\n",
            "The extension of the file is : python\n"
          ],
          "name": "stdout"
        }
      ]
    }
  ]
}